{
  "nbformat": 4,
  "nbformat_minor": 0,
  "metadata": {
    "colab": {
      "name": "Aula Python",
      "provenance": [],
      "include_colab_link": true
    },
    "kernelspec": {
      "name": "python3",
      "display_name": "Python 3"
    }
  },
  "cells": [
    {
      "cell_type": "markdown",
      "metadata": {
        "id": "view-in-github",
        "colab_type": "text"
      },
      "source": [
        "<a href=\"https://colab.research.google.com/github/Galileub/Python/blob/master/Aula_Python.ipynb\" target=\"_parent\"><img src=\"https://colab.research.google.com/assets/colab-badge.svg\" alt=\"Open In Colab\"/></a>"
      ]
    },
    {
      "cell_type": "code",
      "metadata": {
        "id": "3O7JL_IopOEK",
        "colab_type": "code",
        "colab": {
          "base_uri": "https://localhost:8080/",
          "height": 34
        },
        "outputId": "a66500f0-11d2-4635-9488-551feb3b7bd5"
      },
      "source": [
        "texto1 = \"A idade de Galileu em 3 anos será?\"\n",
        "#print(texto1)\n",
        "nome = \"Galileu\"\n",
        "#print(nome)\n",
        "\n",
        "idade = 32\n",
        "idade\n",
        "\n",
        "idade + 3\n",
        "idade = idade + 3\n",
        "idade\n",
        "#print(idade)\n",
        "\n",
        "#def mais_um_ano(idade):\n",
        "#    print(\"ta dentro dessa funcao\")\n",
        "#    return idade + 1\n",
        "#mais_um_ano(43)\n",
        "\n",
        "#filme1 = \"Toy Story 17\"\n",
        "#filme2 = \"O Canto\"\n",
        "#filme3 = \"Matrix 1\"\n",
        "\n",
        "filmes = ['Toy Story 17', 'O Canto', 'Matrix 1 ']\n",
        "filmes\n",
        "#list()\n",
        "\n",
        "def imprime_filmes(filmes_que_quero_imprimir):\n",
        "    print(\"A lista de filmes que eu tenho disponivel\")\n",
        "    for filme in filmes_que_quero_imprimir:\n",
        "      print(filme)\n",
        "imprime_filmes(filmes)\n",
        "    #print(filmes_que_quero_imprimir)\n",
        "\n",
        "#imprime_filmes(filmes)\n",
        "#filmes[1:]\n",
        "\n",
        "#for filme in filmes:\n",
        "#    print(filme)\n",
        "\n",
        "\n",
        "dados = {\"nome\" : \"Guilherme\",\n",
        "         \"idade\" : 37,\n",
        "         \"empresa\" : \"Alura\"}\n",
        "dados\n",
        "dados[\"empresa\"]\n",
        "\n"
      ],
      "execution_count": 96,
      "outputs": [
        {
          "output_type": "execute_result",
          "data": {
            "text/plain": [
              "'Alura'"
            ]
          },
          "metadata": {
            "tags": []
          },
          "execution_count": 96
        }
      ]
    },
    {
      "cell_type": "code",
      "metadata": {
        "id": "e_HWqpONDXxZ",
        "colab_type": "code",
        "colab": {}
      },
      "source": [
        ""
      ],
      "execution_count": 0,
      "outputs": []
    },
    {
      "cell_type": "code",
      "metadata": {
        "id": "TtptCZvL3Jjc",
        "colab_type": "code",
        "colab": {}
      },
      "source": [
        ""
      ],
      "execution_count": 0,
      "outputs": []
    }
  ]
}